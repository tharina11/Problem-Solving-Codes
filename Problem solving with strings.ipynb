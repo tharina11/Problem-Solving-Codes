{
 "cells": [
  {
   "cell_type": "code",
   "execution_count": null,
   "metadata": {},
   "outputs": [],
   "source": [
    "names = ['sam', 'john', 'lopez', 'gomez']\n",
    "\n",
    "filtered_list = list(filter(lambda names1: (names1 != 'sam'), names))\n",
    "\n",
    "print(filtered_list)"
   ]
  },
  {
   "cell_type": "code",
   "execution_count": null,
   "metadata": {},
   "outputs": [],
   "source": [
    "str= 'gemba'\n",
    "k= str.upper()\n",
    "k"
   ]
  },
  {
   "cell_type": "code",
   "execution_count": 1,
   "metadata": {},
   "outputs": [
    {
     "name": "stdout",
     "output_type": "stream",
     "text": [
      "karkade\n"
     ]
    }
   ],
   "source": [
    "string =\"edakrak\"\n",
    "\n",
    "list= range(6)\n",
    "if(type(list)==list):\n",
    "    print(string[::2],string[1::2], sep=\"\")\n",
    "          \n",
    "else:\n",
    "    print(string[::-1])"
   ]
  },
  {
   "cell_type": "code",
   "execution_count": 2,
   "metadata": {},
   "outputs": [
    {
     "data": {
      "text/plain": [
       "'abcdefghijkl'"
      ]
     },
     "execution_count": 2,
     "metadata": {},
     "output_type": "execute_result"
    }
   ],
   "source": [
    "string= \"abc de f ghij kl\"\n",
    "\n",
    "def removespace(string):\n",
    "    return string.replace(' ','')\n",
    "removespace(string)"
   ]
  },
  {
   "cell_type": "code",
   "execution_count": null,
   "metadata": {},
   "outputs": [],
   "source": [
    "VOWELS = \"aeiou\"\n",
    "\n",
    "word = \"james is funny\"\n",
    "\n",
    "for letter in word:\n",
    "    if letter in VOWELS:\n",
    "        print(letter, end='')\n",
    "    else:\n",
    "        print(' ', end='')"
   ]
  },
  {
   "cell_type": "code",
   "execution_count": null,
   "metadata": {},
   "outputs": [],
   "source": [
    "# remove all the vawols of the string provided, then keep every odd letter\n",
    "\n",
    "str= 'Launchode'\n",
    "\n",
    "novols= \"global\"\n",
    "def novols(str):\n",
    "    \n",
    "    novols=''\n",
    "    vols='aeiou'\n",
    "    \n",
    "    for i in str:\n",
    "        if i in vols:\n",
    "            novlos += i\n",
    "        return novlos\n",
    "\n",
    "novols(str) "
   ]
  }
 ],
 "metadata": {
  "kernelspec": {
   "display_name": "Python 3",
   "language": "python",
   "name": "python3"
  },
  "language_info": {
   "codemirror_mode": {
    "name": "ipython",
    "version": 3
   },
   "file_extension": ".py",
   "mimetype": "text/x-python",
   "name": "python",
   "nbconvert_exporter": "python",
   "pygments_lexer": "ipython3",
   "version": "3.8.5"
  }
 },
 "nbformat": 4,
 "nbformat_minor": 4
}
