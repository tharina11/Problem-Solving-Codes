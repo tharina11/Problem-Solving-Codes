{
 "cells": [
  {
   "cell_type": "markdown",
   "metadata": {},
   "source": [
    "There are four choices for myCoffeeMachine, black coffee, sugar coffee, milk coffee, and sweet milk coffee. The following shows ingredients of each choice. For example, to make milk coffee, you can set coffee and milk on the coffee machine. In this manner make an ask_order function, so each choice is properly set on the myCoffeeMachine. \n",
    "\n",
    "### Recepies \n",
    "- black coffee: coffee \n",
    "- sugar coffee: coffee, sugar \n",
    "- milk coffee: coffee, milk \n",
    "- sweet milk coffee: coffee, milk, sugar \n",
    "- Use this menu list \n",
    "- Menu = ['black coffee', 'sugar coffee', 'milk coffee', 'sweet milk coffee']"
   ]
  },
  {
   "cell_type": "code",
   "execution_count": null,
   "metadata": {},
   "outputs": [],
   "source": [
    "class ask_order:\n",
    "    def __init__ (self, coffee, sugar, milk):\n",
    "        self.coffee= coffee\n",
    "        self.sugar= sugar\n",
    "        self.milk= milk\n",
    "    \n",
    "    def black_coffee(self):\n",
    "        return coffee\n",
    "    def sugar_coffee(self):\n",
    "        return coffee, sugar\n",
    "    def milk_coffee(self):\n",
    "        return coffee, milk\n",
    "    def sweet_milk_coffee(self):\n",
    "        return milk, sugar, coffee\n",
    "    \n",
    "ask_order.black_coffee(self)  "
   ]
  },
  {
   "cell_type": "code",
   "execution_count": 2,
   "metadata": {},
   "outputs": [
    {
     "name": "stdout",
     "output_type": "stream",
     "text": [
      "2\n"
     ]
    }
   ],
   "source": [
    "class calculator:\n",
    "    \n",
    "    def addition(x,y):\n",
    "        add= x + y\n",
    "        print (add)\n",
    "    def division(x,y):\n",
    "        divide = x//y\n",
    "        print (divide)\n",
    "    def multiplication(x,y):\n",
    "        multi= x*y\n",
    "        print (multi)\n",
    "    def subtraction(x,y):\n",
    "        sub = x- y\n",
    "        print (sub)\n",
    "\n",
    "calculator.division(4,2)"
   ]
  }
 ],
 "metadata": {
  "kernelspec": {
   "display_name": "Python 3",
   "language": "python",
   "name": "python3"
  },
  "language_info": {
   "codemirror_mode": {
    "name": "ipython",
    "version": 3
   },
   "file_extension": ".py",
   "mimetype": "text/x-python",
   "name": "python",
   "nbconvert_exporter": "python",
   "pygments_lexer": "ipython3",
   "version": "3.8.5"
  }
 },
 "nbformat": 4,
 "nbformat_minor": 4
}
