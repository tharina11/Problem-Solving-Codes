{
 "cells": [
  {
   "cell_type": "markdown",
   "metadata": {},
   "source": [
    "There are four choices for myCoffeeMachine, black coffee, sugar coffee, milk coffee, and sweet milk coffee. The following shows ingredients of each choice. For example, to make milk coffee, you can set coffee and milk on the coffee machine. In this manner make an ask_order function, so each choice is properly set on the myCoffeeMachine. \n",
    "\n",
    "### Recepies \n",
    "- black coffee: coffee \n",
    "- sugar coffee: coffee, sugar \n",
    "- milk coffee: coffee, milk \n",
    "- sweet milk coffee: coffee, milk, sugar \n",
    "- Use this menu list \n",
    "- Menu = ['black coffee', 'sugar coffee', 'milk coffee', 'sweet milk coffee']"
   ]
  },
  {
   "cell_type": "code",
   "execution_count": 4,
   "metadata": {},
   "outputs": [
    {
     "ename": "TypeError",
     "evalue": "black_coffee() missing 1 required positional argument: 'self'",
     "output_type": "error",
     "traceback": [
      "\u001b[1;31m---------------------------------------------------------------------------\u001b[0m",
      "\u001b[1;31mTypeError\u001b[0m                                 Traceback (most recent call last)",
      "\u001b[1;32m<ipython-input-4-7e1de638637b>\u001b[0m in \u001b[0;36m<module>\u001b[1;34m\u001b[0m\n\u001b[0;32m     14\u001b[0m         \u001b[1;32mreturn\u001b[0m \u001b[0mmilk\u001b[0m\u001b[1;33m,\u001b[0m \u001b[0msugar\u001b[0m\u001b[1;33m,\u001b[0m \u001b[0mcoffee\u001b[0m\u001b[1;33m\u001b[0m\u001b[1;33m\u001b[0m\u001b[0m\n\u001b[0;32m     15\u001b[0m \u001b[1;33m\u001b[0m\u001b[0m\n\u001b[1;32m---> 16\u001b[1;33m \u001b[0mask_order\u001b[0m\u001b[1;33m.\u001b[0m\u001b[0mblack_coffee\u001b[0m\u001b[1;33m(\u001b[0m\u001b[1;33m)\u001b[0m\u001b[1;33m\u001b[0m\u001b[1;33m\u001b[0m\u001b[0m\n\u001b[0m",
      "\u001b[1;31mTypeError\u001b[0m: black_coffee() missing 1 required positional argument: 'self'"
     ]
    }
   ],
   "source": [
    "class ask_order:\n",
    "    def __init__ (self, coffee, sugar, milk):\n",
    "        self.coffee= coffee\n",
    "        self.sugar= sugar\n",
    "        self.milk= milk\n",
    "    \n",
    "    def black_coffee(self):\n",
    "        return coffee\n",
    "    def sugar_coffee(self):\n",
    "        return coffee, sugar\n",
    "    def milk_coffee(self):\n",
    "        return coffee, milk\n",
    "    def sweet_milk_coffee(self):\n",
    "        return milk, sugar, coffee\n",
    "    \n",
    "ask_order.black_coffee()  "
   ]
  },
  {
   "cell_type": "markdown",
   "metadata": {},
   "source": [
    "Calculator"
   ]
  },
  {
   "cell_type": "code",
   "execution_count": 2,
   "metadata": {},
   "outputs": [
    {
     "name": "stdout",
     "output_type": "stream",
     "text": [
      "2\n"
     ]
    }
   ],
   "source": [
    "class calculator:\n",
    "    \n",
    "    def addition(x,y):\n",
    "        add= x + y\n",
    "        print (add)\n",
    "    def division(x,y):\n",
    "        divide = x//y\n",
    "        print (divide)\n",
    "    def multiplication(x,y):\n",
    "        multi= x*y\n",
    "        print (multi)\n",
    "    def subtraction(x,y):\n",
    "        sub = x- y\n",
    "        print (sub)\n",
    "\n",
    "calculator.division(4,2)"
   ]
  }
 ],
 "metadata": {
  "kernelspec": {
   "display_name": "Python 3",
   "language": "python",
   "name": "python3"
  },
  "language_info": {
   "codemirror_mode": {
    "name": "ipython",
    "version": 3
   },
   "file_extension": ".py",
   "mimetype": "text/x-python",
   "name": "python",
   "nbconvert_exporter": "python",
   "pygments_lexer": "ipython3",
   "version": "3.8.5"
  }
 },
 "nbformat": 4,
 "nbformat_minor": 4
}
